{
 "cells": [
  {
   "cell_type": "code",
   "execution_count": 15,
   "id": "c594495e-ae4d-4377-a851-200e3607357a",
   "metadata": {},
   "outputs": [],
   "source": [
    "from tensorflow.keras.utils import to_categorical\n",
    "from sklearn.datasets import fetch_openml\n",
    "from sklearn.model_selection import train_test_split\n",
    "from sklearn.preprocessing import LabelEncoder, StandardScaler\n",
    "import numpy as np\n",
    "import tensorflow as tf\n",
    "from PIL import Image\n",
    "from tensorflow.keras.utils import image_dataset_from_directory\n",
    "import matplotlib.pyplot as plt\n",
    "from tensorflow import keras\n",
    "from tensorflow.keras import layers, callbacks\n",
    "from numpy.random import seed\n",
    "from qkeras import qlayers, qconvolutional\n",
    "from qkeras.qlayers import QActivation\n",
    "from qkeras.qconvolutional import QConv2D\n",
    "from qkeras.quantizers import quantized_bits, quantized_relu"
   ]
  },
  {
   "cell_type": "code",
   "execution_count": 16,
   "id": "7d8f2268-ecfc-422a-873d-3cdceb248f88",
   "metadata": {},
   "outputs": [],
   "source": [
    "seed(0)\n",
    "tf.random.set_seed(0)"
   ]
  },
  {
   "cell_type": "code",
   "execution_count": 17,
   "id": "584cb593-0363-431d-bc41-146c6c41c699",
   "metadata": {},
   "outputs": [
    {
     "name": "stdout",
     "output_type": "stream",
     "text": [
      "Found 2529 files belonging to 3 classes.\n"
     ]
    }
   ],
   "source": [
    "#DEFINE AND AUGMENT TRAIN DATA\n",
    "train_ds = tf.keras.utils.image_dataset_from_directory(\n",
    "    './Datasheet_RPS/train',\n",
    "    labels='inferred',\n",
    "    label_mode='int',\n",
    "    class_names=None,\n",
    "    batch_size=32,\n",
    "    image_size=(30, 30),\n",
    "    shuffle=True,\n",
    "    seed=10,\n",
    "    validation_split=None,\n",
    "    subset=None,\n",
    "    interpolation='bilinear',\n",
    "    follow_links=False,\n",
    "    crop_to_aspect_ratio=False,\n",
    ")"
   ]
  },
  {
   "cell_type": "code",
   "execution_count": 18,
   "id": "f3c4b965-5e3c-4fc1-a6ab-3aaf11509288",
   "metadata": {},
   "outputs": [
    {
     "name": "stdout",
     "output_type": "stream",
     "text": [
      "Found 372 files belonging to 3 classes.\n"
     ]
    }
   ],
   "source": [
    "#DEFINE AND AUGMENT VALIDATION DATA\n",
    "val_ds = tf.keras.utils.image_dataset_from_directory(\n",
    "    './Datasheet_RPS/valid',\n",
    "    labels='inferred',\n",
    "    label_mode='int',\n",
    "    class_names=None,\n",
    "    batch_size=32,\n",
    "    image_size=(30, 30),\n",
    "    shuffle=True,\n",
    "    seed=10,\n",
    "    validation_split=None,\n",
    "    subset=None,\n",
    "    interpolation='bilinear',\n",
    "    follow_links=False,\n",
    "    crop_to_aspect_ratio=False,\n",
    ")\n"
   ]
  },
  {
   "cell_type": "code",
   "execution_count": 19,
   "id": "c403953c-8666-439e-a873-01ff47f4f8e4",
   "metadata": {},
   "outputs": [
    {
     "name": "stdout",
     "output_type": "stream",
     "text": [
      "Found 41 files belonging to 3 classes.\n"
     ]
    }
   ],
   "source": [
    "#DEFINE AND AUGMENT TEST DATA\n",
    "test_ds = tf.keras.utils.image_dataset_from_directory(\n",
    "    './Datasheet_RPS/test',\n",
    "    labels='inferred',\n",
    "    label_mode='int',\n",
    "    class_names=None,\n",
    "    batch_size=32,\n",
    "    image_size=(30, 30),\n",
    "    shuffle=True,\n",
    "    seed=10,\n",
    "    validation_split=None,\n",
    "    subset=None,\n",
    "    interpolation='bilinear',\n",
    "    follow_links=False,\n",
    "    crop_to_aspect_ratio=False,\n",
    ")"
   ]
  },
  {
   "cell_type": "code",
   "execution_count": 20,
   "id": "f92659d8-85ce-4705-9d72-8873762310c2",
   "metadata": {},
   "outputs": [],
   "source": [
    "\n",
    "#NORMALIZATION\n",
    "normalization_layer = layers.Rescaling(1./255)\n",
    "normalized_ds = train_ds.map(lambda x, y: (normalization_layer(x), y))\n",
    "image_batch, labels_batch = next(iter(normalized_ds))\n"
   ]
  },
  {
   "cell_type": "code",
   "execution_count": 21,
   "id": "d82dcc1b-957a-4d31-a92a-77715aa8600b",
   "metadata": {},
   "outputs": [
    {
     "name": "stdout",
     "output_type": "stream",
     "text": [
      "<BatchDataset element_spec=(TensorSpec(shape=(None, 30, 30, 3), dtype=tf.float32, name=None), TensorSpec(shape=(None,), dtype=tf.int32, name=None))>\n",
      "<BatchDataset element_spec=(TensorSpec(shape=(None, 30, 30, 3), dtype=tf.float32, name=None), TensorSpec(shape=(None,), dtype=tf.int32, name=None))>\n"
     ]
    }
   ],
   "source": [
    "print(train_ds)\n",
    "print(test_ds)"
   ]
  },
  {
   "cell_type": "code",
   "execution_count": 22,
   "id": "c0cbaa5e-e8e7-4f3e-ad93-7eee827954f3",
   "metadata": {},
   "outputs": [],
   "source": [
    "\n",
    "#CREATE MODEL\n",
    "model = keras.Sequential()\n",
    "\n",
    "model.add(qconvolutional.QConv2D(\n",
    "    90,\n",
    "    3,\n",
    "    input_shape=(30,30,3),\n",
    "    kernel_quantizer=quantized_bits(7, 1, alpha=1),\n",
    "    bias_quantizer=quantized_bits(7, 1, alpha=1),\n",
    "    ))\n",
    "\n",
    "model.add(QActivation(activation=quantized_relu(7), name='relu1'))\n",
    "\n",
    "model.add(layers.MaxPooling2D())\n",
    "\n",
    "model.add(qconvolutional.QConv2D(\n",
    "    64,\n",
    "    3,\n",
    "    kernel_quantizer=quantized_bits(7, 1, alpha=1),\n",
    "    bias_quantizer=quantized_bits(7, 1, alpha=1),\n",
    "    ))\n",
    "\n",
    "model.add(QActivation(activation=quantized_relu(6), name='relu2'))\n",
    "\n",
    "model.add(layers.MaxPooling2D())\n",
    "\n",
    "model.add(qconvolutional.QConv2D(\n",
    "    32,\n",
    "    3,\n",
    "    kernel_quantizer=quantized_bits(7, 1, alpha=1),\n",
    "    bias_quantizer=quantized_bits(7, 1, alpha=1),\n",
    "    ))\n",
    "\n",
    "model.add(QActivation(activation=quantized_relu(7), name='relu3'))\n",
    "\n",
    "model.add(layers.MaxPooling2D())\n",
    "\n",
    "model.add(layers.Flatten())\n",
    "\n",
    "model.add(qlayers.QDense(\n",
    "    64,\n",
    "    kernel_quantizer=quantized_bits(7, 1, alpha=1),\n",
    "    bias_quantizer=quantized_bits(7, 1, alpha=1),\n",
    "    ))\n",
    "\n",
    "model.add(QActivation(activation=quantized_relu(7), name='relu4'))\n",
    "\n",
    "model.add(qlayers.QDense(\n",
    "    3,\n",
    "    kernel_quantizer=quantized_bits(1, 1, alpha=1),\n",
    "    bias_quantizer=quantized_bits(1, 1, alpha=1),\n",
    "    ))\n"
   ]
  },
  {
   "cell_type": "code",
   "execution_count": 23,
   "id": "f69240ab-0667-4e94-b4ee-f31001c90d3b",
   "metadata": {},
   "outputs": [],
   "source": [
    "\n",
    "from tensorflow_model_optimization.python.core.sparsity.keras import prune, pruning_callbacks, pruning_schedule\n",
    "from tensorflow_model_optimization.sparsity.keras import strip_pruning, PruningSummaries\n",
    "\n",
    "pruning_params = {\n",
    "\n",
    "    \"pruning_schedule\": pruning_schedule.PolynomialDecay(\n",
    "    initial_sparsity = 0,\n",
    "    final_sparsity = .9,\n",
    "    begin_step = 300,\n",
    "    end_step = 2000,\n",
    "    power=2,\n",
    "    frequency=100)\n",
    "    \n",
    "\n",
    "    }\n",
    "model = prune.prune_low_magnitude(model, **pruning_params)\n"
   ]
  },
  {
   "cell_type": "code",
   "execution_count": 24,
   "id": "d98f85e1-06bc-4980-ae49-b230dd21a07a",
   "metadata": {},
   "outputs": [
    {
     "name": "stdout",
     "output_type": "stream",
     "text": [
      "Model: \"sequential_1\"\n",
      "_________________________________________________________________\n",
      " Layer (type)                Output Shape              Param #   \n",
      "=================================================================\n",
      " prune_low_magnitude_q_conv2  (None, 28, 28, 90)       4952      \n",
      " d_3 (PruneLowMagnitude)                                         \n",
      "                                                                 \n",
      " prune_low_magnitude_relu1 (  (None, 28, 28, 90)       1         \n",
      " PruneLowMagnitude)                                              \n",
      "                                                                 \n",
      " prune_low_magnitude_max_poo  (None, 14, 14, 90)       1         \n",
      " ling2d_3 (PruneLowMagnitude                                     \n",
      " )                                                               \n",
      "                                                                 \n",
      " prune_low_magnitude_q_conv2  (None, 12, 12, 64)       103746    \n",
      " d_4 (PruneLowMagnitude)                                         \n",
      "                                                                 \n",
      " prune_low_magnitude_relu2 (  (None, 12, 12, 64)       1         \n",
      " PruneLowMagnitude)                                              \n",
      "                                                                 \n",
      " prune_low_magnitude_max_poo  (None, 6, 6, 64)         1         \n",
      " ling2d_4 (PruneLowMagnitude                                     \n",
      " )                                                               \n",
      "                                                                 \n",
      " prune_low_magnitude_q_conv2  (None, 4, 4, 32)         36898     \n",
      " d_5 (PruneLowMagnitude)                                         \n",
      "                                                                 \n",
      " prune_low_magnitude_relu3 (  (None, 4, 4, 32)         1         \n",
      " PruneLowMagnitude)                                              \n",
      "                                                                 \n",
      " prune_low_magnitude_max_poo  (None, 2, 2, 32)         1         \n",
      " ling2d_5 (PruneLowMagnitude                                     \n",
      " )                                                               \n",
      "                                                                 \n",
      " prune_low_magnitude_flatten  (None, 128)              1         \n",
      " _1 (PruneLowMagnitude)                                          \n",
      "                                                                 \n",
      " prune_low_magnitude_q_dense  (None, 64)               16450     \n",
      " _2 (PruneLowMagnitude)                                          \n",
      "                                                                 \n",
      " prune_low_magnitude_relu4 (  (None, 64)               1         \n",
      " PruneLowMagnitude)                                              \n",
      "                                                                 \n",
      " prune_low_magnitude_q_dense  (None, 3)                389       \n",
      " _3 (PruneLowMagnitude)                                          \n",
      "                                                                 \n",
      "=================================================================\n",
      "Total params: 162,443\n",
      "Trainable params: 81,339\n",
      "Non-trainable params: 81,104\n",
      "_________________________________________________________________\n"
     ]
    }
   ],
   "source": [
    "model.summary()"
   ]
  },
  {
   "cell_type": "code",
   "execution_count": 25,
   "id": "83726488-f066-401f-b97c-31a2ec737738",
   "metadata": {},
   "outputs": [
    {
     "ename": "TypeError",
     "evalue": "__init__() got an unexpected keyword argument 'start_from_epoch'",
     "output_type": "error",
     "traceback": [
      "\u001b[0;31m---------------------------------------------------------------------------\u001b[0m",
      "\u001b[0;31mTypeError\u001b[0m                                 Traceback (most recent call last)",
      "Cell \u001b[0;32mIn[25], line 6\u001b[0m\n\u001b[1;32m      4\u001b[0m call \u001b[38;5;241m=\u001b[39m []\n\u001b[1;32m      5\u001b[0m call\u001b[38;5;241m.\u001b[39mappend(pruning_callbacks\u001b[38;5;241m.\u001b[39mUpdatePruningStep())\n\u001b[0;32m----> 6\u001b[0m call\u001b[38;5;241m.\u001b[39mappend(\u001b[43mtf\u001b[49m\u001b[38;5;241;43m.\u001b[39;49m\u001b[43mkeras\u001b[49m\u001b[38;5;241;43m.\u001b[39;49m\u001b[43mcallbacks\u001b[49m\u001b[38;5;241;43m.\u001b[39;49m\u001b[43mEarlyStopping\u001b[49m\u001b[43m(\u001b[49m\n\u001b[1;32m      7\u001b[0m \u001b[43m    \u001b[49m\u001b[43mmonitor\u001b[49m\u001b[38;5;241;43m=\u001b[39;49m\u001b[38;5;124;43m'\u001b[39;49m\u001b[38;5;124;43mval_loss\u001b[39;49m\u001b[38;5;124;43m'\u001b[39;49m\u001b[43m,\u001b[49m\n\u001b[1;32m      8\u001b[0m \u001b[43m    \u001b[49m\u001b[43mmin_delta\u001b[49m\u001b[38;5;241;43m=\u001b[39;49m\u001b[38;5;241;43m.01\u001b[39;49m\u001b[43m,\u001b[49m\n\u001b[1;32m      9\u001b[0m \u001b[43m    \u001b[49m\u001b[43mpatience\u001b[49m\u001b[38;5;241;43m=\u001b[39;49m\u001b[38;5;241;43m6\u001b[39;49m\u001b[43m,\u001b[49m\n\u001b[1;32m     10\u001b[0m \u001b[43m    \u001b[49m\u001b[43mverbose\u001b[49m\u001b[38;5;241;43m=\u001b[39;49m\u001b[38;5;241;43m0\u001b[39;49m\u001b[43m,\u001b[49m\n\u001b[1;32m     11\u001b[0m \u001b[43m    \u001b[49m\u001b[43mmode\u001b[49m\u001b[38;5;241;43m=\u001b[39;49m\u001b[38;5;124;43m'\u001b[39;49m\u001b[38;5;124;43mmin\u001b[39;49m\u001b[38;5;124;43m'\u001b[39;49m\u001b[43m,\u001b[49m\n\u001b[1;32m     12\u001b[0m \u001b[43m    \u001b[49m\u001b[43mbaseline\u001b[49m\u001b[38;5;241;43m=\u001b[39;49m\u001b[38;5;28;43;01mNone\u001b[39;49;00m\u001b[43m,\u001b[49m\n\u001b[1;32m     13\u001b[0m \u001b[43m    \u001b[49m\u001b[43mrestore_best_weights\u001b[49m\u001b[38;5;241;43m=\u001b[39;49m\u001b[38;5;28;43;01mFalse\u001b[39;49;00m\u001b[43m,\u001b[49m\n\u001b[1;32m     14\u001b[0m \u001b[43m    \u001b[49m\u001b[43mstart_from_epoch\u001b[49m\u001b[38;5;241;43m=\u001b[39;49m\u001b[38;5;241;43m20\u001b[39;49m\u001b[43m,\u001b[49m\n\u001b[1;32m     15\u001b[0m \u001b[43m    \u001b[49m\n\u001b[1;32m     16\u001b[0m \u001b[43m)\u001b[49m)\n\u001b[1;32m     18\u001b[0m model\u001b[38;5;241m.\u001b[39mcompile(optimizer\u001b[38;5;241m=\u001b[39moptimizer,\n\u001b[1;32m     19\u001b[0m               loss\u001b[38;5;241m=\u001b[39mtf\u001b[38;5;241m.\u001b[39mkeras\u001b[38;5;241m.\u001b[39mlosses\u001b[38;5;241m.\u001b[39mSparseCategoricalCrossentropy(from_logits\u001b[38;5;241m=\u001b[39m\u001b[38;5;28;01mTrue\u001b[39;00m),\n\u001b[1;32m     20\u001b[0m               metrics\u001b[38;5;241m=\u001b[39m[\u001b[38;5;124m'\u001b[39m\u001b[38;5;124maccuracy\u001b[39m\u001b[38;5;124m'\u001b[39m]\n\u001b[1;32m     21\u001b[0m              )\n",
      "\u001b[0;31mTypeError\u001b[0m: __init__() got an unexpected keyword argument 'start_from_epoch'"
     ]
    }
   ],
   "source": [
    "optimizer=tf.keras.optimizers.Adam()\n",
    "optimizer.learning_rate.assign(0.0001)\n",
    "\n",
    "call = []\n",
    "call.append(pruning_callbacks.UpdatePruningStep())\n",
    "call.append(tf.keras.callbacks.EarlyStopping(\n",
    "    monitor='val_loss',\n",
    "    min_delta=.01,\n",
    "    patience=6,\n",
    "    verbose=0,\n",
    "    mode='min',\n",
    "    baseline=None,\n",
    "    restore_best_weights=False,\n",
    "    start_from_epoch=20,\n",
    "    \n",
    "))\n",
    "\n",
    "model.compile(optimizer=optimizer,\n",
    "              loss=tf.keras.losses.SparseCategoricalCrossentropy(from_logits=True),\n",
    "              metrics=['accuracy']\n",
    "             )"
   ]
  },
  {
   "cell_type": "code",
   "execution_count": null,
   "id": "0867aece-bc18-42c8-8843-55a151d66b8c",
   "metadata": {},
   "outputs": [],
   "source": [
    "epochs=50\n",
    "\n",
    "history = model.fit(\n",
    "  train_ds,\n",
    "  validation_data=val_ds,\n",
    "  epochs=epochs,\n",
    "  callbacks=call\n",
    "  \n",
    ")\n",
    "model = strip_pruning(model)"
   ]
  },
  {
   "cell_type": "code",
   "execution_count": null,
   "id": "5b7341a0-3793-468e-92fb-c6e7188481a5",
   "metadata": {},
   "outputs": [],
   "source": [
    "w = model.layers[0].weights[0].numpy()\n",
    "h, b = np.histogram(w, bins=100)\n",
    "plt.figure(figsize=(7, 7))\n",
    "plt.bar(b[:-1], h, width=b[1] - b[0])\n",
    "plt.semilogy()\n",
    "print('% of zeros = {}'.format(np.sum(w == 0) / np.size(w)))"
   ]
  },
  {
   "cell_type": "code",
   "execution_count": null,
   "id": "a83a00ab-77bc-4a16-8656-f9c471416d46",
   "metadata": {},
   "outputs": [],
   "source": [
    "epochs=epochs\n",
    "acc = history.history['accuracy']\n",
    "val_acc = history.history['val_accuracy']\n",
    "\n",
    "loss = history.history['loss']\n",
    "val_loss = history.history['val_loss']\n",
    "\n",
    "epochs_range = range(epochs)\n",
    "\n",
    "plt.figure(figsize=(8, 8))\n",
    "plt.subplot(1, 2, 1)\n",
    "plt.plot(epochs_range, acc, label='Training Accuracy')\n",
    "plt.plot(epochs_range, val_acc, label='Validation Accuracy')\n",
    "plt.legend(loc='lower right')\n",
    "plt.title('Training and Validation Accuracy')\n",
    "\n",
    "plt.subplot(1, 2, 2)\n",
    "plt.plot(epochs_range, loss, label='Training Loss')\n",
    "plt.plot(epochs_range, val_loss, label='Validation Loss')\n",
    "plt.legend(loc='upper right')\n",
    "plt.title('Training and Validation Loss')\n",
    "plt.show()\n",
    "\n",
    "print((val_acc[-1] + val_acc[-2] + val_acc[-3])/3)"
   ]
  },
  {
   "cell_type": "code",
   "execution_count": null,
   "id": "67696b22-1ce1-4e4c-93bf-77e4f8e8c315",
   "metadata": {},
   "outputs": [],
   "source": [
    "\n",
    "model.compile(optimizer=optimizer,\n",
    "              loss=tf.keras.losses.SparseCategoricalCrossentropy(from_logits=True),\n",
    "              metrics=['accuracy']\n",
    "             )"
   ]
  },
  {
   "cell_type": "code",
   "execution_count": null,
   "id": "b7a94629-3e88-42db-a01b-2a43426458d1",
   "metadata": {},
   "outputs": [],
   "source": [
    "model.evaluate(test_ds)"
   ]
  },
  {
   "cell_type": "code",
   "execution_count": null,
   "id": "6764e96d-c336-41be-a830-5bf6306d3a20",
   "metadata": {},
   "outputs": [],
   "source": []
  }
 ],
 "metadata": {
  "kernelspec": {
   "display_name": "Python [conda env:.conda-tiny]",
   "language": "python",
   "name": "conda-env-.conda-tiny-py"
  },
  "language_info": {
   "codemirror_mode": {
    "name": "ipython",
    "version": 3
   },
   "file_extension": ".py",
   "mimetype": "text/x-python",
   "name": "python",
   "nbconvert_exporter": "python",
   "pygments_lexer": "ipython3",
   "version": "3.8.17"
  }
 },
 "nbformat": 4,
 "nbformat_minor": 5
}
