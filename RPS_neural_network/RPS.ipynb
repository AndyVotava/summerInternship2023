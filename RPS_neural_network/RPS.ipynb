{
 "cells": [
  {
   "cell_type": "code",
   "execution_count": 1,
   "id": "c594495e-ae4d-4377-a851-200e3607357a",
   "metadata": {},
   "outputs": [
    {
     "name": "stderr",
     "output_type": "stream",
     "text": [
      "2023-07-21 17:46:40.880993: I tensorflow/core/util/port.cc:110] oneDNN custom operations are on. You may see slightly different numerical results due to floating-point round-off errors from different computation orders. To turn them off, set the environment variable `TF_ENABLE_ONEDNN_OPTS=0`.\n",
      "2023-07-21 17:46:40.884199: I tensorflow/tsl/cuda/cudart_stub.cc:28] Could not find cuda drivers on your machine, GPU will not be used.\n",
      "2023-07-21 17:46:40.950457: I tensorflow/tsl/cuda/cudart_stub.cc:28] Could not find cuda drivers on your machine, GPU will not be used.\n",
      "2023-07-21 17:46:40.951815: I tensorflow/core/platform/cpu_feature_guard.cc:182] This TensorFlow binary is optimized to use available CPU instructions in performance-critical operations.\n",
      "To enable the following instructions: AVX2 AVX512F AVX512_VNNI FMA, in other operations, rebuild TensorFlow with the appropriate compiler flags.\n",
      "2023-07-21 17:46:47.859095: W tensorflow/compiler/tf2tensorrt/utils/py_utils.cc:38] TF-TRT Warning: Could not find TensorRT\n"
     ]
    }
   ],
   "source": [
    "from tensorflow.keras.utils import to_categorical\n",
    "from sklearn.datasets import fetch_openml\n",
    "from sklearn.model_selection import train_test_split\n",
    "from sklearn.preprocessing import LabelEncoder, StandardScaler\n",
    "import numpy as np\n",
    "from PIL import Image\n",
    "import matplotlib.pyplot as plt\n",
    "from tensorflow import keras\n",
    "from tensorflow.keras import layers, callbacks\n",
    "from numpy.random import seed\n",
    "import os\n",
    "from imutils import paths\n",
    "import random\n",
    "import cv2\n",
    "from sklearn import preprocessing\n",
    "import tensorflow as tf\n",
    "from matplotlib import pyplot\n",
    "import qkeras\n",
    "from qkeras import *\n",
    "from qkeras.utils import model_save_quantized_weights"
   ]
  },
  {
   "cell_type": "code",
   "execution_count": 2,
   "id": "7d8f2268-ecfc-422a-873d-3cdceb248f88",
   "metadata": {},
   "outputs": [],
   "source": [
    "seed(0)\n",
    "tf.random.set_seed(0)"
   ]
  },
  {
   "cell_type": "code",
   "execution_count": 3,
   "id": "584cb593-0363-431d-bc41-146c6c41c699",
   "metadata": {},
   "outputs": [],
   "source": [
    "#Enter the path of your image data folder\n",
    "image_data_folder_path = \"./Datasheet_RPS/all_data/\"\n",
    "\n",
    "# initialize the data and labels as an empty list \n",
    "#we will reshape the image data and append it in the list-data\n",
    "#we will encode the image labels and append it in the list-labels\n",
    "data = []\n",
    "labels = []\n",
    "\n",
    "# grab the image paths and randomly shuffle them\n",
    "imagePaths = sorted(list(paths.list_images(image_data_folder_path)))\n",
    "\n",
    "#total number images\n",
    "total_number_of_images = len(imagePaths)\n",
    "\n",
    "\n",
    "#randomly shuffle all the image file name \n",
    "random.shuffle(imagePaths)\n",
    "\n",
    "# loop over the shuffled input images\n",
    "for imagePath in imagePaths:\n",
    "\n",
    "    #Read the image into a numpy array using opencv\n",
    "    #all the read images are of different shapes\n",
    "    image = cv2.imread(imagePath)\n",
    "\n",
    "    \n",
    "    #resize the image to be 32x32 pixels (ignoring aspect ratio)\n",
    "    #After reshape size of all the images will become 32x32x3\n",
    "    #Total number of pixels in every image = 32x32x3=3072\n",
    "    image = cv2.resize(image, (32, 32))\n",
    "    \n",
    "    img_float32 = np.float32(image)\n",
    "    image_rgb = cv2.cvtColor(img_float32, cv2.COLOR_BGR2RGB)\n",
    "\n",
    "    #flatten converts every 3D image (32x32x3) into 1D numpy array of shape (3072,)\n",
    "    #(3072,) is the shape of the flatten image\n",
    "    #(3072,) shape means 3072 columns and 1 row\n",
    "    #image_flatten = image.flatten()\n",
    "\n",
    "    #Append each image data 1D array to the data list\n",
    "    data.append(image_rgb)\n",
    "\n",
    "    # extract the class label from the image path and update the\n",
    "    label = imagePath.split(os.path.sep)[-2]\n",
    "\n",
    "    #Append each image label to the labels list\n",
    "    labels.append(label)\n",
    "# scale the raw pixel intensities to the range [0, 1]\n",
    "#convert the data and label list to numpy array\n",
    "data = np.array(data, dtype=\"float\") / 255.0\n",
    "labels = np.array(labels)"
   ]
  },
  {
   "cell_type": "code",
   "execution_count": 4,
   "id": "f3c4b965-5e3c-4fc1-a6ab-3aaf11509288",
   "metadata": {},
   "outputs": [
    {
     "name": "stdout",
     "output_type": "stream",
     "text": [
      "(2193, 32, 32, 3)\n",
      "(2193, 3)\n",
      "(732, 32, 32, 3)\n",
      "(732, 3)\n"
     ]
    },
    {
     "data": {
      "text/plain": [
       "<matplotlib.image.AxesImage at 0x7fc6c5e5eee0>"
      ]
     },
     "execution_count": 4,
     "metadata": {},
     "output_type": "execute_result"
    },
    {
     "data": {
      "image/png": "[encoded data removed]",
      "text/plain": [
       "<Figure size 640x480 with 1 Axes>"
      ]
     },
     "metadata": {},
     "output_type": "display_data"
    }
   ],
   "source": [
    "# partition the data into training and testing splits using 75% of\n",
    "# the data for training and the remaining 25% for testing\n",
    "# train_test_split is a scikit-learn's function which helps us to split train and test images kept in the same folders\n",
    "(trainX, testX, trainY, testY) = train_test_split(data,labels, test_size=0.25, random_state=42)\n",
    "\n",
    "\n",
    "# convert the labels from integers to vectors \n",
    "# perform One hot encoding of all the labels using scikit-learn's function LabelBinarizer\n",
    "# LabelBinarizer fit_transform finds all the labels \n",
    "lb = preprocessing.LabelBinarizer()\n",
    "trainY = lb.fit_transform(trainY)\n",
    "testY = lb.transform(testY)\n",
    "\n",
    "#trainX = trainX.reshape(trainX.shape[0], 32, 32, 3)\n",
    "#testX = testX.reshape(testX.shape[0], 32, 32, 3)\n",
    "\n",
    "\n",
    "print(np.shape(trainX))\n",
    "print(np.shape(trainY))\n",
    "print(np.shape(testX))\n",
    "print(np.shape(testY))\n",
    "\n",
    "randomint = np.random.randint(low = 1, high = 2193)\n",
    "img = (trainX[randomint, : ,: ,:])\n",
    "\n",
    "\n",
    "pyplot.imshow(img)\n",
    "\n"
   ]
  },
  {
   "cell_type": "code",
   "execution_count": 5,
   "id": "8902eeab-7c2f-489c-ba8a-4ca2ddd43ca4",
   "metadata": {},
   "outputs": [],
   "source": [
    "\n",
    "model = keras.Sequential()\n",
    "\n",
    "\n",
    "model.add(qconvolutional.QConv2D(\n",
    "    25, (3, 3), strides=(1,1),\n",
    "    kernel_quantizer=quantized_bits(7,1),\n",
    "    bias_quantizer=quantized_bits(7,1),\n",
    "    name=\"conv2d1\", input_shape = (32,32,3)))\n",
    "\n",
    "model.add(QActivation(activation=quantized_relu(7), name='relu1'))\n",
    "\n",
    "model.add(layers.MaxPool2D(pool_size=(1,1)))\n",
    "\n",
    "model.add(qconvolutional.QConv2D(\n",
    "    5, (3, 3), strides=(1,1),\n",
    "    kernel_quantizer=quantized_bits(7,1),\n",
    "    bias_quantizer=quantized_bits(7,1),\n",
    "    name=\"conv2d2\"))\n",
    "\n",
    "model.add(QActivation(activation=quantized_relu(7), name='relu2'))\n",
    "\n",
    "model.add(layers.MaxPool2D(pool_size=(1,1)))\n",
    "\n",
    "model.add(layers.Flatten())\n",
    "\n",
    "model.add(\n",
    "    QDense(\n",
    "        5,\n",
    "        name='fc1',\n",
    "        kernel_quantizer=quantized_bits(7, 1, alpha=1),\n",
    "        bias_quantizer=quantized_bits(7, 1, alpha=1),\n",
    "    ))\n",
    "model.add(QActivation(activation=quantized_relu(7), name='relu3'))\n",
    "\n",
    "\n",
    "model.add(\n",
    "    QDense(\n",
    "        3,\n",
    "        name='fc2',\n",
    "        kernel_quantizer=quantized_bits(7, 1, alpha=1),\n",
    "        bias_quantizer=quantized_bits(7, 1, alpha=1),\n",
    "    ))\n",
    "model.add(layers.Activation(activations.softmax))\n"
   ]
  },
  {
   "cell_type": "code",
   "execution_count": 6,
   "id": "f69240ab-0667-4e94-b4ee-f31001c90d3b",
   "metadata": {},
   "outputs": [],
   "source": [
    "\n",
    "from tensorflow_model_optimization.python.core.sparsity.keras import prune, pruning_callbacks, pruning_schedule\n",
    "from tensorflow_model_optimization.sparsity.keras import strip_pruning, PruningSummaries\n",
    "\n",
    "pruning_params = {\n",
    "\n",
    "    \"pruning_schedule\": pruning_schedule.PolynomialDecay(\n",
    "    initial_sparsity = 0,\n",
    "    final_sparsity = .8,\n",
    "    begin_step = 0,\n",
    "    end_step = 4000,\n",
    "    power=2,\n",
    "    frequency=100)\n",
    "    \n",
    "\n",
    "    }\n",
    "model = prune.prune_low_magnitude(model, **pruning_params)\n"
   ]
  },
  {
   "cell_type": "code",
   "execution_count": 7,
   "id": "d98f85e1-06bc-4980-ae49-b230dd21a07a",
   "metadata": {},
   "outputs": [
    {
     "name": "stdout",
     "output_type": "stream",
     "text": [
      "Model: \"sequential\"\n",
      "_________________________________________________________________\n",
      " Layer (type)                Output Shape              Param #   \n",
      "=================================================================\n",
      " prune_low_magnitude_conv2d1  (None, 30, 30, 25)       1377      \n",
      "  (PruneLowMagnitude)                                            \n",
      "                                                                 \n",
      " prune_low_magnitude_relu1 (  (None, 30, 30, 25)       1         \n",
      " PruneLowMagnitude)                                              \n",
      "                                                                 \n",
      " prune_low_magnitude_max_poo  (None, 30, 30, 25)       1         \n",
      " ling2d (PruneLowMagnitude)                                      \n",
      "                                                                 \n",
      " prune_low_magnitude_conv2d2  (None, 28, 28, 5)        2257      \n",
      "  (PruneLowMagnitude)                                            \n",
      "                                                                 \n",
      " prune_low_magnitude_relu2 (  (None, 28, 28, 5)        1         \n",
      " PruneLowMagnitude)                                              \n",
      "                                                                 \n",
      " prune_low_magnitude_max_poo  (None, 28, 28, 5)        1         \n",
      " ling2d_1 (PruneLowMagnitude                                     \n",
      " )                                                               \n",
      "                                                                 \n",
      " prune_low_magnitude_flatten  (None, 3920)             1         \n",
      "  (PruneLowMagnitude)                                            \n",
      "                                                                 \n",
      " prune_low_magnitude_fc1 (Pr  (None, 5)                39207     \n",
      " uneLowMagnitude)                                                \n",
      "                                                                 \n",
      " prune_low_magnitude_relu3 (  (None, 5)                1         \n",
      " PruneLowMagnitude)                                              \n",
      "                                                                 \n",
      " prune_low_magnitude_fc2 (Pr  (None, 3)                35        \n",
      " uneLowMagnitude)                                                \n",
      "                                                                 \n",
      " prune_low_magnitude_activat  (None, 3)                1         \n",
      " ion (PruneLowMagnitude)                                         \n",
      "                                                                 \n",
      "=================================================================\n",
      "Total params: 42,883\n",
      "Trainable params: 21,453\n",
      "Non-trainable params: 21,430\n",
      "_________________________________________________________________\n"
     ]
    }
   ],
   "source": [
    "model.summary()"
   ]
  },
  {
   "cell_type": "code",
   "execution_count": 8,
   "id": "83726488-f066-401f-b97c-31a2ec737738",
   "metadata": {},
   "outputs": [],
   "source": [
    "\n",
    "optimizer=tf.keras.optimizers.Adam()\n",
    "optimizer.learning_rate.assign(0.0001)\n",
    "\n",
    "call = []\n",
    "call.append(pruning_callbacks.UpdatePruningStep())\n",
    "call.append(tf.keras.callbacks.EarlyStopping(\n",
    "    monitor=\"val_loss\",\n",
    "    min_delta=0.05,\n",
    "    patience=5,\n",
    "    verbose=0,\n",
    "    mode=\"min\",\n",
    "    baseline=None,\n",
    "    restore_best_weights=True,\n",
    "    start_from_epoch=60,\n",
    "))\n",
    "\n",
    "model.compile(optimizer=optimizer,\n",
    "              loss='categorical_crossentropy',\n",
    "              metrics=['accuracy']\n",
    "             )\n"
   ]
  },
  {
   "cell_type": "code",
   "execution_count": 9,
   "id": "3a54f08e-9a44-4dc9-bc2c-e9cce4d3bdd4",
   "metadata": {},
   "outputs": [
    {
     "name": "stdout",
     "output_type": "stream",
     "text": [
      "Epoch 1/300\n",
      "69/69 [==============================] - 9s 42ms/step - loss: 1.1046 - accuracy: 0.3324 - val_loss: 1.0893 - val_accuracy: 0.3456\n",
      "Epoch 2/300\n",
      "69/69 [==============================] - 2s 27ms/step - loss: 1.0851 - accuracy: 0.3630 - val_loss: 1.0797 - val_accuracy: 0.3470\n",
      "Epoch 3/300\n",
      "69/69 [==============================] - 2s 27ms/step - loss: 1.0777 - accuracy: 0.3292 - val_loss: 1.0683 - val_accuracy: 0.3456\n",
      "Epoch 4/300\n",
      "69/69 [==============================] - 2s 27ms/step - loss: 1.0660 - accuracy: 0.3703 - val_loss: 1.0541 - val_accuracy: 0.4440\n",
      "Epoch 5/300\n",
      "69/69 [==============================] - 2s 27ms/step - loss: 1.0422 - accuracy: 0.4615 - val_loss: 1.0415 - val_accuracy: 0.3798\n",
      "Epoch 6/300\n",
      "69/69 [==============================] - 2s 26ms/step - loss: 1.0078 - accuracy: 0.5609 - val_loss: 1.0153 - val_accuracy: 0.6079\n",
      "Epoch 7/300\n",
      "69/69 [==============================] - 2s 27ms/step - loss: 0.9832 - accuracy: 0.6256 - val_loss: 0.9783 - val_accuracy: 0.6844\n",
      "Epoch 8/300\n",
      "69/69 [==============================] - 2s 27ms/step - loss: 0.9671 - accuracy: 0.7209 - val_loss: 0.9699 - val_accuracy: 0.6421\n",
      "Epoch 9/300\n",
      "69/69 [==============================] - 2s 26ms/step - loss: 0.9492 - accuracy: 0.7570 - val_loss: 0.9604 - val_accuracy: 0.7077\n",
      "Epoch 10/300\n",
      "69/69 [==============================] - 2s 27ms/step - loss: 0.9447 - accuracy: 0.7606 - val_loss: 0.9484 - val_accuracy: 0.7213\n",
      "Epoch 11/300\n",
      "69/69 [==============================] - 2s 26ms/step - loss: 0.9199 - accuracy: 0.7319 - val_loss: 0.9360 - val_accuracy: 0.5628\n",
      "Epoch 12/300\n",
      "69/69 [==============================] - 2s 27ms/step - loss: 0.9078 - accuracy: 0.7214 - val_loss: 0.9162 - val_accuracy: 0.7514\n",
      "Epoch 13/300\n",
      "69/69 [==============================] - 2s 27ms/step - loss: 0.8959 - accuracy: 0.8700 - val_loss: 0.8796 - val_accuracy: 0.8156\n",
      "Epoch 14/300\n",
      "69/69 [==============================] - 2s 27ms/step - loss: 0.8641 - accuracy: 0.8586 - val_loss: 0.8538 - val_accuracy: 0.8811\n",
      "Epoch 15/300\n",
      "69/69 [==============================] - 2s 27ms/step - loss: 0.8529 - accuracy: 0.8892 - val_loss: 0.8499 - val_accuracy: 0.8675\n",
      "Epoch 16/300\n",
      "69/69 [==============================] - 2s 27ms/step - loss: 0.8480 - accuracy: 0.8623 - val_loss: 0.9281 - val_accuracy: 0.6230\n",
      "Epoch 17/300\n",
      "69/69 [==============================] - 2s 27ms/step - loss: 0.9168 - accuracy: 0.7218 - val_loss: 0.8871 - val_accuracy: 0.6817\n",
      "Epoch 18/300\n",
      "69/69 [==============================] - 2s 27ms/step - loss: 0.8829 - accuracy: 0.6936 - val_loss: 0.8589 - val_accuracy: 0.7719\n",
      "Epoch 19/300\n",
      "69/69 [==============================] - 2s 27ms/step - loss: 0.8555 - accuracy: 0.7387 - val_loss: 0.8423 - val_accuracy: 0.6790\n",
      "Epoch 20/300\n",
      "69/69 [==============================] - 2s 26ms/step - loss: 0.8316 - accuracy: 0.7798 - val_loss: 0.7929 - val_accuracy: 0.7801\n",
      "Epoch 21/300\n",
      "69/69 [==============================] - 2s 27ms/step - loss: 0.8005 - accuracy: 0.8039 - val_loss: 0.7839 - val_accuracy: 0.8210\n",
      "Epoch 22/300\n",
      "69/69 [==============================] - 2s 27ms/step - loss: 0.7853 - accuracy: 0.8399 - val_loss: 0.7733 - val_accuracy: 0.8702\n",
      "Epoch 23/300\n",
      "69/69 [==============================] - 2s 27ms/step - loss: 0.7715 - accuracy: 0.8591 - val_loss: 0.7572 - val_accuracy: 0.8648\n",
      "Epoch 24/300\n",
      "69/69 [==============================] - 2s 27ms/step - loss: 0.7413 - accuracy: 0.8573 - val_loss: 0.7142 - val_accuracy: 0.8730\n",
      "Epoch 25/300\n",
      "69/69 [==============================] - 2s 26ms/step - loss: 0.7457 - accuracy: 0.8568 - val_loss: 0.7254 - val_accuracy: 0.8306\n",
      "Epoch 26/300\n",
      "69/69 [==============================] - 2s 26ms/step - loss: 0.7179 - accuracy: 0.8901 - val_loss: 0.7003 - val_accuracy: 0.9139\n",
      "Epoch 27/300\n",
      "69/69 [==============================] - 2s 27ms/step - loss: 0.7863 - accuracy: 0.7756 - val_loss: 0.7047 - val_accuracy: 0.8852\n",
      "Epoch 28/300\n",
      "69/69 [==============================] - 2s 26ms/step - loss: 0.7661 - accuracy: 0.7998 - val_loss: 0.6306 - val_accuracy: 0.8948\n",
      "Epoch 29/300\n",
      "69/69 [==============================] - 2s 27ms/step - loss: 0.6155 - accuracy: 0.9083 - val_loss: 0.9140 - val_accuracy: 0.5628\n",
      "Epoch 30/300\n",
      "69/69 [==============================] - 2s 27ms/step - loss: 0.6134 - accuracy: 0.9015 - val_loss: 0.5552 - val_accuracy: 0.9549\n",
      "Epoch 31/300\n",
      "69/69 [==============================] - 2s 27ms/step - loss: 0.5848 - accuracy: 0.9207 - val_loss: 0.5466 - val_accuracy: 0.9604\n",
      "Epoch 32/300\n",
      "69/69 [==============================] - 2s 26ms/step - loss: 0.6201 - accuracy: 0.9193 - val_loss: 0.9138 - val_accuracy: 0.7172\n",
      "Epoch 33/300\n",
      "69/69 [==============================] - 2s 27ms/step - loss: 0.6607 - accuracy: 0.8723 - val_loss: 0.6104 - val_accuracy: 0.9194\n",
      "Epoch 34/300\n",
      "69/69 [==============================] - 2s 26ms/step - loss: 0.6683 - accuracy: 0.8956 - val_loss: 0.6065 - val_accuracy: 0.8921\n",
      "Epoch 35/300\n",
      "69/69 [==============================] - 2s 27ms/step - loss: 0.6705 - accuracy: 0.8814 - val_loss: 0.6594 - val_accuracy: 0.8511\n",
      "Epoch 36/300\n",
      "69/69 [==============================] - 2s 26ms/step - loss: 0.6148 - accuracy: 0.9197 - val_loss: 0.5800 - val_accuracy: 0.9522\n",
      "Epoch 37/300\n",
      "69/69 [==============================] - 2s 27ms/step - loss: 0.6507 - accuracy: 0.8878 - val_loss: 0.5882 - val_accuracy: 0.9208\n",
      "Epoch 38/300\n",
      "69/69 [==============================] - 2s 26ms/step - loss: 0.5648 - accuracy: 0.9330 - val_loss: 0.5617 - val_accuracy: 0.9276\n",
      "Epoch 39/300\n",
      "69/69 [==============================] - 2s 27ms/step - loss: 0.5343 - accuracy: 0.9562 - val_loss: 0.5278 - val_accuracy: 0.9577\n",
      "Epoch 40/300\n",
      "69/69 [==============================] - 2s 27ms/step - loss: 0.5669 - accuracy: 0.9238 - val_loss: 0.5447 - val_accuracy: 0.9358\n",
      "Epoch 41/300\n",
      "69/69 [==============================] - 2s 26ms/step - loss: 0.5585 - accuracy: 0.9343 - val_loss: 0.5184 - val_accuracy: 0.9699\n",
      "Epoch 42/300\n",
      "69/69 [==============================] - 2s 27ms/step - loss: 0.5013 - accuracy: 0.9672 - val_loss: 0.4965 - val_accuracy: 0.9658\n",
      "Epoch 43/300\n",
      "69/69 [==============================] - 2s 27ms/step - loss: 0.5778 - accuracy: 0.9188 - val_loss: 0.5481 - val_accuracy: 0.9440\n",
      "Epoch 44/300\n",
      "69/69 [==============================] - 2s 27ms/step - loss: 0.5463 - accuracy: 0.9275 - val_loss: 0.5067 - val_accuracy: 0.9645\n",
      "Epoch 45/300\n",
      "69/69 [==============================] - 2s 26ms/step - loss: 0.5202 - accuracy: 0.9485 - val_loss: 0.7015 - val_accuracy: 0.8101\n",
      "Epoch 46/300\n",
      "69/69 [==============================] - 2s 27ms/step - loss: 0.5191 - accuracy: 0.9462 - val_loss: 0.5015 - val_accuracy: 0.9563\n",
      "Epoch 47/300\n",
      "69/69 [==============================] - 2s 26ms/step - loss: 0.5573 - accuracy: 0.9571 - val_loss: 0.5981 - val_accuracy: 0.9549\n",
      "Epoch 48/300\n",
      "69/69 [==============================] - 2s 27ms/step - loss: 0.5743 - accuracy: 0.9571 - val_loss: 0.5992 - val_accuracy: 0.9139\n",
      "Epoch 49/300\n",
      "69/69 [==============================] - 2s 26ms/step - loss: 0.5639 - accuracy: 0.9653 - val_loss: 0.5820 - val_accuracy: 0.9344\n",
      "Epoch 50/300\n",
      "69/69 [==============================] - 2s 27ms/step - loss: 0.5839 - accuracy: 0.9599 - val_loss: 0.5871 - val_accuracy: 0.9399\n",
      "Epoch 51/300\n",
      "69/69 [==============================] - 2s 27ms/step - loss: 0.5595 - accuracy: 0.9653 - val_loss: 0.5797 - val_accuracy: 0.9508\n",
      "Epoch 52/300\n",
      "69/69 [==============================] - 2s 26ms/step - loss: 0.5448 - accuracy: 0.9713 - val_loss: 0.5630 - val_accuracy: 0.9658\n",
      "Epoch 53/300\n",
      "69/69 [==============================] - 2s 27ms/step - loss: 0.5390 - accuracy: 0.9749 - val_loss: 0.5531 - val_accuracy: 0.9686\n",
      "Epoch 54/300\n",
      "69/69 [==============================] - 2s 27ms/step - loss: 0.5280 - accuracy: 0.9818 - val_loss: 0.5440 - val_accuracy: 0.9699\n",
      "Epoch 55/300\n",
      "69/69 [==============================] - 2s 26ms/step - loss: 0.5240 - accuracy: 0.9813 - val_loss: 0.5422 - val_accuracy: 0.9727\n",
      "Epoch 56/300\n",
      "69/69 [==============================] - 2s 27ms/step - loss: 0.5262 - accuracy: 0.9786 - val_loss: 0.5395 - val_accuracy: 0.9768\n",
      "Epoch 57/300\n",
      "69/69 [==============================] - 2s 26ms/step - loss: 0.5203 - accuracy: 0.9804 - val_loss: 0.5339 - val_accuracy: 0.9754\n",
      "Epoch 58/300\n",
      "69/69 [==============================] - 2s 26ms/step - loss: 0.5126 - accuracy: 0.9818 - val_loss: 0.5303 - val_accuracy: 0.9699\n",
      "Epoch 59/300\n",
      "69/69 [==============================] - 2s 27ms/step - loss: 0.5084 - accuracy: 0.9808 - val_loss: 0.5260 - val_accuracy: 0.9672\n",
      "Epoch 60/300\n",
      "69/69 [==============================] - 2s 26ms/step - loss: 0.5034 - accuracy: 0.9822 - val_loss: 0.5236 - val_accuracy: 0.9699\n",
      "Epoch 61/300\n",
      "69/69 [==============================] - 2s 27ms/step - loss: 0.5013 - accuracy: 0.9822 - val_loss: 0.5188 - val_accuracy: 0.9713\n",
      "Epoch 62/300\n",
      "69/69 [==============================] - 2s 27ms/step - loss: 0.4987 - accuracy: 0.9804 - val_loss: 0.5178 - val_accuracy: 0.9699\n",
      "Epoch 63/300\n",
      "69/69 [==============================] - 2s 27ms/step - loss: 0.4975 - accuracy: 0.9818 - val_loss: 0.5156 - val_accuracy: 0.9713\n",
      "Epoch 64/300\n",
      "69/69 [==============================] - 2s 27ms/step - loss: 0.4930 - accuracy: 0.9845 - val_loss: 0.5104 - val_accuracy: 0.9754\n",
      "Epoch 65/300\n",
      "69/69 [==============================] - 2s 26ms/step - loss: 0.4898 - accuracy: 0.9840 - val_loss: 0.5060 - val_accuracy: 0.9713\n",
      "Epoch 66/300\n",
      "69/69 [==============================] - 2s 26ms/step - loss: 0.4844 - accuracy: 0.9850 - val_loss: 0.5027 - val_accuracy: 0.9795\n"
     ]
    }
   ],
   "source": [
    "# training the model\n",
    "model.fit(trainX, trainY, batch_size=32, epochs=300 ,callbacks=call, validation_data=(testX, testY))\n",
    "model = strip_pruning(model)"
   ]
  },
  {
   "cell_type": "code",
   "execution_count": 15,
   "id": "5b7341a0-3793-468e-92fb-c6e7188481a5",
   "metadata": {},
   "outputs": [
    {
     "name": "stdout",
     "output_type": "stream",
     "text": [
      "% of zeros = 0.8\n"
     ]
    },
    {
     "data": {
      "image/png": "[encoded data removed]",
      "text/plain": [
       "<Figure size 700x700 with 1 Axes>"
      ]
     },
     "metadata": {},
     "output_type": "display_data"
    }
   ],
   "source": [
    "w = model.layers[0].weights[0].numpy()\n",
    "h, b = np.histogram(w, bins=100)\n",
    "plt.figure(figsize=(7, 7))\n",
    "plt.bar(b[:-1], h, width=b[1] - b[0])\n",
    "plt.semilogy()\n",
    "print('% of zeros = {}'.format(np.sum(w == 0) / np.size(w)))"
   ]
  },
  {
   "cell_type": "code",
   "execution_count": 16,
   "id": "4c9d5e4d-5b85-454e-ae9d-3a60b35d5af8",
   "metadata": {},
   "outputs": [
    {
     "name": "stdout",
     "output_type": "stream",
     "text": [
      "WARNING:tensorflow:Compiled the loaded model, but the compiled metrics have yet to be built. `model.compile_metrics` will be empty until you train or evaluate the model.\n"
     ]
    }
   ],
   "source": [
    "model.save(\"my_model.keras\")"
   ]
  },
  {
   "cell_type": "code",
   "execution_count": 17,
   "id": "d1eb28bf-321a-4f77-a303-1659b979be51",
   "metadata": {},
   "outputs": [
    {
     "name": "stdout",
     "output_type": "stream",
     "text": [
      "23/23 [==============================] - 0s 14ms/step\n",
      "Accuracy: 0.9713114754098361\n"
     ]
    },
    {
     "data": {
      "image/png": "[encoded data removed]",
      "text/plain": [
       "<Figure size 900x900 with 1 Axes>"
      ]
     },
     "metadata": {},
     "output_type": "display_data"
    }
   ],
   "source": [
    "import plotting\n",
    "import matplotlib.pyplot as plt\n",
    "from sklearn.metrics import accuracy_score\n",
    "\n",
    "y_predict = model.predict(testX)\n",
    "print(\"Accuracy: {}\".format(accuracy_score(np.argmax(testY, axis=1), np.argmax(y_predict, axis=1))))\n",
    "plt.figure(figsize=(9, 9))\n",
    "_ = plotting.makeRoc(testY, y_predict, lb.classes_)"
   ]
  },
  {
   "cell_type": "code",
   "execution_count": 18,
   "id": "152e536d-7ca0-4bd7-94f4-2f948b53046a",
   "metadata": {},
   "outputs": [
    {
     "data": {
      "image/png": "[encoded data removed]",
      "text/plain": [
       "<Figure size 640x480 with 2 Axes>"
      ]
     },
     "metadata": {},
     "output_type": "display_data"
    }
   ],
   "source": [
    "import matplotlib.pyplot as plt\n",
    "import numpy\n",
    "from sklearn import metrics\n",
    "\n",
    "confusion_matrix1 = metrics.confusion_matrix(np.argmax(testY, axis=1), np.argmax(y_predict, axis=1))\n",
    "\n",
    "cm_display1 = metrics.ConfusionMatrixDisplay(confusion_matrix = confusion_matrix1)\n",
    "\n",
    "cm_display1.plot()\n",
    "plt.show()\n",
    "\n"
   ]
  },
  {
   "cell_type": "code",
   "execution_count": 19,
   "id": "e0215ca9-0121-425f-a741-2d391910d69c",
   "metadata": {},
   "outputs": [
    {
     "name": "stdout",
     "output_type": "stream",
     "text": [
      "69/69 [==============================] - 1s 12ms/step\n"
     ]
    },
    {
     "data": {
      "image/png": "[encoded data removed]",
      "text/plain": [
       "<Figure size 640x480 with 2 Axes>"
      ]
     },
     "metadata": {},
     "output_type": "display_data"
    }
   ],
   "source": [
    "trainp = model.predict(trainX)\n",
    "\n",
    "\n",
    "confusion_matrix2 = metrics.confusion_matrix(np.argmax(trainY, axis=1), np.argmax(trainp, axis=1))\n",
    "\n",
    "cm_display2 = metrics.ConfusionMatrixDisplay(confusion_matrix = confusion_matrix2)\n",
    "\n",
    "cm_display2.plot()\n",
    "plt.show()\n"
   ]
  },
  {
   "cell_type": "code",
   "execution_count": null,
   "id": "452c6601-5c7a-48a8-8fa2-cf2c7a6ca991",
   "metadata": {},
   "outputs": [],
   "source": []
  },
  {
   "cell_type": "code",
   "execution_count": null,
   "id": "4845e895-fa26-416f-bc0b-554b0825955d",
   "metadata": {},
   "outputs": [],
   "source": []
  },
  {
   "cell_type": "code",
   "execution_count": null,
   "id": "10584229-24e5-4675-8d13-0ed313c8393e",
   "metadata": {},
   "outputs": [],
   "source": []
  }
 ],
 "metadata": {
  "kernelspec": {
   "display_name": "Python [conda env:.conda-tiny]",
   "language": "python",
   "name": "conda-env-.conda-tiny-py"
  },
  "language_info": {
   "codemirror_mode": {
    "name": "ipython",
    "version": 3
   },
   "file_extension": ".py",
   "mimetype": "text/x-python",
   "name": "python",
   "nbconvert_exporter": "python",
   "pygments_lexer": "ipython3",
   "version": "3.8.17"
  }
 },
 "nbformat": 4,
 "nbformat_minor": 5
}
